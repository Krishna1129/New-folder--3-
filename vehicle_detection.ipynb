{
 "cells": [
  {
   "cell_type": "markdown",
   "id": "d506eff3",
   "metadata": {},
   "source": [
    "# Vehicle Detection and Counting using YOLOv8\n",
    "\n",
    "This notebook implements a vehicle detection and counting system using YOLOv8. The model will:\n",
    "1. Detect vehicles in traffic images\n",
    "2. Classify them as either cars ('mobil') or motorcycles ('motor')\n",
    "3. Count total vehicles and per-category counts\n",
    "4. Visualize the results with bounding boxes and counts"
   ]
  },
  {
   "cell_type": "markdown",
   "id": "7819d823",
   "metadata": {},
   "source": [
    "# 1. Setup and Dependencies\n",
    "\n",
    "First, let's install and import all required libraries"
   ]
  },
  {
   "cell_type": "code",
   "execution_count": 21,
   "id": "119193ec",
   "metadata": {},
   "outputs": [
    {
     "name": "stdout",
     "output_type": "stream",
     "text": [
      "CUDA available: False\n",
      "Using CPU\n"
     ]
    }
   ],
   "source": [
    "import torch\n",
    "import cv2\n",
    "import numpy as np\n",
    "import matplotlib.pyplot as plt\n",
    "from ultralytics import YOLO\n",
    "from pathlib import Path\n",
    "\n",
    "# Check if CUDA is available\n",
    "print(f\"CUDA available: {torch.cuda.is_available()}\")\n",
    "if torch.cuda.is_available():\n",
    "    device = torch.device(\"cuda\")\n",
    "    print(f\"Using GPU: {torch.cuda.get_device_name(0)}\")\n",
    "else:\n",
    "    device = torch.device(\"cpu\")\n",
    "    print(\"Using CPU\")"
   ]
  },
  {
   "cell_type": "code",
   "execution_count": 20,
   "id": "e6a84b08",
   "metadata": {},
   "outputs": [
    {
     "name": "stdout",
     "output_type": "stream",
     "text": [
      "Requirement already satisfied: pip in c:\\users\\hp\\appdata\\local\\packages\\pythonsoftwarefoundation.python.3.11_qbz5n2kfra8p0\\localcache\\local-packages\\python311\\site-packages (25.2)\n",
      "Requirement already satisfied: ultralytics in c:\\users\\hp\\appdata\\local\\packages\\pythonsoftwarefoundation.python.3.11_qbz5n2kfra8p0\\localcache\\local-packages\\python311\\site-packages (8.3.199)\n",
      "Collecting onnx\n",
      "  Using cached onnx-1.19.0-cp311-cp311-win_amd64.whl.metadata (7.2 kB)\n",
      "Requirement already satisfied: onnxruntime in c:\\users\\hp\\appdata\\local\\packages\\pythonsoftwarefoundation.python.3.11_qbz5n2kfra8p0\\localcache\\local-packages\\python311\\site-packages (1.22.1)\n",
      "Requirement already satisfied: numpy>=1.23.0 in c:\\users\\hp\\appdata\\local\\packages\\pythonsoftwarefoundation.python.3.11_qbz5n2kfra8p0\\localcache\\local-packages\\python311\\site-packages (from ultralytics) (2.2.6)\n",
      "Requirement already satisfied: matplotlib>=3.3.0 in c:\\users\\hp\\appdata\\local\\packages\\pythonsoftwarefoundation.python.3.11_qbz5n2kfra8p0\\localcache\\local-packages\\python311\\site-packages (from ultralytics) (3.10.6)\n",
      "Requirement already satisfied: opencv-python>=4.6.0 in c:\\users\\hp\\appdata\\local\\packages\\pythonsoftwarefoundation.python.3.11_qbz5n2kfra8p0\\localcache\\local-packages\\python311\\site-packages (from ultralytics) (4.12.0.88)\n",
      "Requirement already satisfied: pillow>=7.1.2 in c:\\users\\hp\\appdata\\local\\packages\\pythonsoftwarefoundation.python.3.11_qbz5n2kfra8p0\\localcache\\local-packages\\python311\\site-packages (from ultralytics) (11.3.0)\n",
      "Requirement already satisfied: pyyaml>=5.3.1 in c:\\users\\hp\\appdata\\local\\packages\\pythonsoftwarefoundation.python.3.11_qbz5n2kfra8p0\\localcache\\local-packages\\python311\\site-packages (from ultralytics) (6.0.2)\n",
      "Requirement already satisfied: requests>=2.23.0 in c:\\users\\hp\\appdata\\local\\packages\\pythonsoftwarefoundation.python.3.11_qbz5n2kfra8p0\\localcache\\local-packages\\python311\\site-packages (from ultralytics) (2.32.5)\n",
      "Requirement already satisfied: scipy>=1.4.1 in c:\\users\\hp\\appdata\\local\\packages\\pythonsoftwarefoundation.python.3.11_qbz5n2kfra8p0\\localcache\\local-packages\\python311\\site-packages (from ultralytics) (1.16.2)\n",
      "Requirement already satisfied: torch>=1.8.0 in c:\\users\\hp\\appdata\\local\\packages\\pythonsoftwarefoundation.python.3.11_qbz5n2kfra8p0\\localcache\\local-packages\\python311\\site-packages (from ultralytics) (2.8.0)\n",
      "Requirement already satisfied: torchvision>=0.9.0 in c:\\users\\hp\\appdata\\local\\packages\\pythonsoftwarefoundation.python.3.11_qbz5n2kfra8p0\\localcache\\local-packages\\python311\\site-packages (from ultralytics) (0.23.0)\n",
      "Requirement already satisfied: psutil in c:\\users\\hp\\appdata\\local\\packages\\pythonsoftwarefoundation.python.3.11_qbz5n2kfra8p0\\localcache\\local-packages\\python311\\site-packages (from ultralytics) (7.0.0)\n",
      "Requirement already satisfied: polars in c:\\users\\hp\\appdata\\local\\packages\\pythonsoftwarefoundation.python.3.11_qbz5n2kfra8p0\\localcache\\local-packages\\python311\\site-packages (from ultralytics) (1.33.1)\n",
      "Requirement already satisfied: ultralytics-thop>=2.0.0 in c:\\users\\hp\\appdata\\local\\packages\\pythonsoftwarefoundation.python.3.11_qbz5n2kfra8p0\\localcache\\local-packages\\python311\\site-packages (from ultralytics) (2.0.17)\n",
      "Requirement already satisfied: protobuf>=4.25.1 in c:\\users\\hp\\appdata\\local\\packages\\pythonsoftwarefoundation.python.3.11_qbz5n2kfra8p0\\localcache\\local-packages\\python311\\site-packages (from onnx) (6.32.0)\n",
      "Requirement already satisfied: typing_extensions>=4.7.1 in c:\\users\\hp\\appdata\\local\\packages\\pythonsoftwarefoundation.python.3.11_qbz5n2kfra8p0\\localcache\\local-packages\\python311\\site-packages (from onnx) (4.13.1)\n",
      "Requirement already satisfied: ml_dtypes in c:\\users\\hp\\appdata\\local\\packages\\pythonsoftwarefoundation.python.3.11_qbz5n2kfra8p0\\localcache\\local-packages\\python311\\site-packages (from onnx) (0.5.3)\n",
      "Requirement already satisfied: coloredlogs in c:\\users\\hp\\appdata\\local\\packages\\pythonsoftwarefoundation.python.3.11_qbz5n2kfra8p0\\localcache\\local-packages\\python311\\site-packages (from onnxruntime) (15.0.1)\n",
      "Requirement already satisfied: flatbuffers in c:\\users\\hp\\appdata\\local\\packages\\pythonsoftwarefoundation.python.3.11_qbz5n2kfra8p0\\localcache\\local-packages\\python311\\site-packages (from onnxruntime) (25.2.10)\n",
      "Requirement already satisfied: packaging in c:\\users\\hp\\appdata\\local\\packages\\pythonsoftwarefoundation.python.3.11_qbz5n2kfra8p0\\localcache\\local-packages\\python311\\site-packages (from onnxruntime) (24.2)\n",
      "Requirement already satisfied: sympy in c:\\users\\hp\\appdata\\local\\packages\\pythonsoftwarefoundation.python.3.11_qbz5n2kfra8p0\\localcache\\local-packages\\python311\\site-packages (from onnxruntime) (1.14.0)\n",
      "Requirement already satisfied: contourpy>=1.0.1 in c:\\users\\hp\\appdata\\local\\packages\\pythonsoftwarefoundation.python.3.11_qbz5n2kfra8p0\\localcache\\local-packages\\python311\\site-packages (from matplotlib>=3.3.0->ultralytics) (1.3.3)\n",
      "Requirement already satisfied: cycler>=0.10 in c:\\users\\hp\\appdata\\local\\packages\\pythonsoftwarefoundation.python.3.11_qbz5n2kfra8p0\\localcache\\local-packages\\python311\\site-packages (from matplotlib>=3.3.0->ultralytics) (0.12.1)\n",
      "Requirement already satisfied: fonttools>=4.22.0 in c:\\users\\hp\\appdata\\local\\packages\\pythonsoftwarefoundation.python.3.11_qbz5n2kfra8p0\\localcache\\local-packages\\python311\\site-packages (from matplotlib>=3.3.0->ultralytics) (4.59.2)\n",
      "Requirement already satisfied: kiwisolver>=1.3.1 in c:\\users\\hp\\appdata\\local\\packages\\pythonsoftwarefoundation.python.3.11_qbz5n2kfra8p0\\localcache\\local-packages\\python311\\site-packages (from matplotlib>=3.3.0->ultralytics) (1.4.9)\n",
      "Requirement already satisfied: pyparsing>=2.3.1 in c:\\users\\hp\\appdata\\local\\packages\\pythonsoftwarefoundation.python.3.11_qbz5n2kfra8p0\\localcache\\local-packages\\python311\\site-packages (from matplotlib>=3.3.0->ultralytics) (3.2.3)\n",
      "Requirement already satisfied: python-dateutil>=2.7 in c:\\users\\hp\\appdata\\local\\packages\\pythonsoftwarefoundation.python.3.11_qbz5n2kfra8p0\\localcache\\local-packages\\python311\\site-packages (from matplotlib>=3.3.0->ultralytics) (2.9.0.post0)\n",
      "Requirement already satisfied: six>=1.5 in c:\\users\\hp\\appdata\\local\\packages\\pythonsoftwarefoundation.python.3.11_qbz5n2kfra8p0\\localcache\\local-packages\\python311\\site-packages (from python-dateutil>=2.7->matplotlib>=3.3.0->ultralytics) (1.17.0)\n",
      "Requirement already satisfied: charset_normalizer<4,>=2 in c:\\users\\hp\\appdata\\local\\packages\\pythonsoftwarefoundation.python.3.11_qbz5n2kfra8p0\\localcache\\local-packages\\python311\\site-packages (from requests>=2.23.0->ultralytics) (3.4.3)\n",
      "Requirement already satisfied: idna<4,>=2.5 in c:\\users\\hp\\appdata\\local\\packages\\pythonsoftwarefoundation.python.3.11_qbz5n2kfra8p0\\localcache\\local-packages\\python311\\site-packages (from requests>=2.23.0->ultralytics) (3.10)\n",
      "Requirement already satisfied: urllib3<3,>=1.21.1 in c:\\users\\hp\\appdata\\local\\packages\\pythonsoftwarefoundation.python.3.11_qbz5n2kfra8p0\\localcache\\local-packages\\python311\\site-packages (from requests>=2.23.0->ultralytics) (2.5.0)\n",
      "Requirement already satisfied: certifi>=2017.4.17 in c:\\users\\hp\\appdata\\local\\packages\\pythonsoftwarefoundation.python.3.11_qbz5n2kfra8p0\\localcache\\local-packages\\python311\\site-packages (from requests>=2.23.0->ultralytics) (2025.8.3)\n",
      "Requirement already satisfied: filelock in c:\\users\\hp\\appdata\\local\\packages\\pythonsoftwarefoundation.python.3.11_qbz5n2kfra8p0\\localcache\\local-packages\\python311\\site-packages (from torch>=1.8.0->ultralytics) (3.19.1)\n",
      "Requirement already satisfied: networkx in c:\\users\\hp\\appdata\\local\\packages\\pythonsoftwarefoundation.python.3.11_qbz5n2kfra8p0\\localcache\\local-packages\\python311\\site-packages (from torch>=1.8.0->ultralytics) (3.5)\n",
      "Requirement already satisfied: jinja2 in c:\\users\\hp\\appdata\\local\\packages\\pythonsoftwarefoundation.python.3.11_qbz5n2kfra8p0\\localcache\\local-packages\\python311\\site-packages (from torch>=1.8.0->ultralytics) (3.1.6)\n",
      "Requirement already satisfied: fsspec in c:\\users\\hp\\appdata\\local\\packages\\pythonsoftwarefoundation.python.3.11_qbz5n2kfra8p0\\localcache\\local-packages\\python311\\site-packages (from torch>=1.8.0->ultralytics) (2025.9.0)\n",
      "Requirement already satisfied: mpmath<1.4,>=1.1.0 in c:\\users\\hp\\appdata\\local\\packages\\pythonsoftwarefoundation.python.3.11_qbz5n2kfra8p0\\localcache\\local-packages\\python311\\site-packages (from sympy->onnxruntime) (1.3.0)\n",
      "Requirement already satisfied: humanfriendly>=9.1 in c:\\users\\hp\\appdata\\local\\packages\\pythonsoftwarefoundation.python.3.11_qbz5n2kfra8p0\\localcache\\local-packages\\python311\\site-packages (from coloredlogs->onnxruntime) (10.0)\n",
      "Requirement already satisfied: pyreadline3 in c:\\users\\hp\\appdata\\local\\packages\\pythonsoftwarefoundation.python.3.11_qbz5n2kfra8p0\\localcache\\local-packages\\python311\\site-packages (from humanfriendly>=9.1->coloredlogs->onnxruntime) (3.5.4)\n",
      "Requirement already satisfied: MarkupSafe>=2.0 in c:\\users\\hp\\appdata\\local\\packages\\pythonsoftwarefoundation.python.3.11_qbz5n2kfra8p0\\localcache\\local-packages\\python311\\site-packages (from jinja2->torch>=1.8.0->ultralytics) (3.0.2)\n",
      "Using cached onnx-1.19.0-cp311-cp311-win_amd64.whl (16.5 MB)\n",
      "Installing collected packages: onnx\n"
     ]
    },
    {
     "name": "stderr",
     "output_type": "stream",
     "text": [
      "ERROR: Could not install packages due to an OSError: [WinError 5] Access is denied: 'C:\\\\Users\\\\HP\\\\AppData\\\\Local\\\\Packages\\\\PythonSoftwareFoundation.Python.3.11_qbz5n2kfra8p0\\\\LocalCache\\\\local-packages\\\\Python311\\\\site-packages\\\\onnx\\\\onnx_cpp2py_export.cp311-win_amd64.pyd'\n",
      "Check the permissions.\n",
      "\n"
     ]
    }
   ],
   "source": [
    "import sys\n",
    "!{sys.executable} -m pip install --upgrade pip\n",
    "!{sys.executable} -m pip install ultralytics onnx onnxruntime"
   ]
  },
  {
   "cell_type": "markdown",
   "id": "74b55679",
   "metadata": {},
   "source": [
    "# 2. Load and Preprocess Dataset\n",
    "\n",
    "Let's load our dataset configuration and examine its structure"
   ]
  },
  {
   "cell_type": "code",
   "execution_count": 22,
   "id": "ed1b1793",
   "metadata": {},
   "outputs": [
    {
     "name": "stdout",
     "output_type": "stream",
     "text": [
      "Dataset Configuration:\n",
      "Number of classes: 2\n",
      "Class names: ['mobil', 'motor']\n",
      "\n",
      "Data splits:\n",
      "Training: ../train/images\n",
      "Validation: ../valid/images\n",
      "Testing: ../test/images\n"
     ]
    }
   ],
   "source": [
    "# Set paths\n",
    "DATASET_PATH = Path(\"vehicle-detection.v21i.yolov11\")\n",
    "DATA_YAML = DATASET_PATH / \"data.yaml\"\n",
    "\n",
    "# Load and display dataset configuration\n",
    "import yaml\n",
    "with open(DATA_YAML, 'r') as f:\n",
    "    data_config = yaml.safe_load(f)\n",
    "    \n",
    "print(\"Dataset Configuration:\")\n",
    "print(f\"Number of classes: {data_config['nc']}\")\n",
    "print(f\"Class names: {data_config['names']}\")\n",
    "print(\"\\nData splits:\")\n",
    "print(f\"Training: {data_config['train']}\")\n",
    "print(f\"Validation: {data_config['val']}\")\n",
    "print(f\"Testing: {data_config['test']}\")"
   ]
  },
  {
   "cell_type": "markdown",
   "id": "28d73192",
   "metadata": {},
   "source": [
    "# 3. Configure YOLO Model\n",
    "\n",
    "Now we'll set up the YOLOv8 model with appropriate configuration for our vehicle detection task"
   ]
  },
  {
   "cell_type": "code",
   "execution_count": 23,
   "id": "f1e35894",
   "metadata": {},
   "outputs": [],
   "source": [
    "# Initialize YOLO model\n",
    "model = YOLO('yolov8n.pt')  # Load the smallest YOLOv8 model for faster training\n",
    "\n",
    "# Configure model parameters\n",
    "model.args.update({\n",
    "    'data': str(DATA_YAML),  # dataset config file\n",
    "    'epochs': 3,    # reduced epochs to 3 for fastest training\n",
    "    'imgsz': 416,  # reduced image size\n",
    "    'batch': 8,    # reduced batch size\n",
    "    'device': device,  # device to use (cuda/cpu)\n",
    "    'workers': 2,  # reduced worker threads\n",
    "    'patience': 2,  # reduced early stopping patience\n",
    "})"
   ]
  },
  {
   "cell_type": "markdown",
   "id": "3a709410",
   "metadata": {},
   "source": [
    "# 4. Train YOLO Model\n",
    "\n",
    "Let's train our model on the vehicle dataset"
   ]
  },
  {
   "cell_type": "code",
   "execution_count": 24,
   "id": "118cd707",
   "metadata": {},
   "outputs": [
    {
     "name": "stdout",
     "output_type": "stream",
     "text": [
      "\u001b[34m\u001b[1mengine\\trainer: \u001b[0magnostic_nms=False, amp=True, augment=False, auto_augment=randaugment, batch=8, bgr=0.0, box=7.5, cache=False, cfg=None, classes=None, close_mosaic=10, cls=0.5, compile=False, conf=None, copy_paste=0.0, copy_paste_mode=flip, cos_lr=False, cutmix=0.0, data=vehicle-detection.v21i.yolov11\\data.yaml, degrees=0.0, deterministic=True, device=cpu, dfl=1.5, dnn=False, dropout=0.0, dynamic=False, embed=None, epochs=3, erasing=0.4, exist_ok=False, fliplr=0.5, flipud=0.0, format=torchscript, fraction=1.0, freeze=None, half=False, hsv_h=0.015, hsv_s=0.7, hsv_v=0.4, imgsz=416, int8=False, iou=0.7, keras=False, kobj=1.0, line_width=None, lr0=0.01, lrf=0.01, mask_ratio=4, max_det=300, mixup=0.0, mode=train, model=yolov8n.pt, momentum=0.937, mosaic=1.0, multi_scale=False, name=train5, nbs=64, nms=False, opset=None, optimize=False, optimizer=auto, overlap_mask=True, patience=2, perspective=0.0, plots=True, pose=12.0, pretrained=True, profile=False, project=None, rect=False, resume=False, retina_masks=False, save=True, save_conf=False, save_crop=False, save_dir=C:\\Users\\HP\\Desktop\\New folder (3)\\runs\\detect\\train5, save_frames=False, save_json=False, save_period=-1, save_txt=False, scale=0.5, seed=0, shear=0.0, show=False, show_boxes=True, show_conf=True, show_labels=True, simplify=True, single_cls=False, source=None, split=val, stream_buffer=False, task=detect, time=None, tracker=botsort.yaml, translate=0.1, val=True, verbose=True, vid_stride=1, visualize=False, warmup_bias_lr=0.1, warmup_epochs=3.0, warmup_momentum=0.8, weight_decay=0.0005, workers=2, workspace=None\n",
      "Overriding model.yaml nc=80 with nc=2\n",
      "Overriding model.yaml nc=80 with nc=2\n",
      "\n",
      "                   from  n    params  module                                       arguments                     \n",
      "\n",
      "                   from  n    params  module                                       arguments                     \n",
      "  0                  -1  1       464  ultralytics.nn.modules.conv.Conv             [3, 16, 3, 2]                 \n",
      "  1                  -1  1      4672  ultralytics.nn.modules.conv.Conv             [16, 32, 3, 2]                \n",
      "  2                  -1  1      7360  ultralytics.nn.modules.block.C2f             [32, 32, 1, True]             \n",
      "  3                  -1  1     18560  ultralytics.nn.modules.conv.Conv             [32, 64, 3, 2]                \n",
      "  0                  -1  1       464  ultralytics.nn.modules.conv.Conv             [3, 16, 3, 2]                 \n",
      "  1                  -1  1      4672  ultralytics.nn.modules.conv.Conv             [16, 32, 3, 2]                \n",
      "  2                  -1  1      7360  ultralytics.nn.modules.block.C2f             [32, 32, 1, True]             \n",
      "  3                  -1  1     18560  ultralytics.nn.modules.conv.Conv             [32, 64, 3, 2]                \n",
      "  4                  -1  2     49664  ultralytics.nn.modules.block.C2f             [64, 64, 2, True]             \n",
      "  5                  -1  1     73984  ultralytics.nn.modules.conv.Conv             [64, 128, 3, 2]               \n",
      "  4                  -1  2     49664  ultralytics.nn.modules.block.C2f             [64, 64, 2, True]             \n",
      "  5                  -1  1     73984  ultralytics.nn.modules.conv.Conv             [64, 128, 3, 2]               \n",
      "  6                  -1  2    197632  ultralytics.nn.modules.block.C2f             [128, 128, 2, True]           \n",
      "  7                  -1  1    295424  ultralytics.nn.modules.conv.Conv             [128, 256, 3, 2]              \n",
      "  8                  -1  1    460288  ultralytics.nn.modules.block.C2f             [256, 256, 1, True]           \n",
      "  6                  -1  2    197632  ultralytics.nn.modules.block.C2f             [128, 128, 2, True]           \n",
      "  7                  -1  1    295424  ultralytics.nn.modules.conv.Conv             [128, 256, 3, 2]              \n",
      "  8                  -1  1    460288  ultralytics.nn.modules.block.C2f             [256, 256, 1, True]           \n",
      "  9                  -1  1    164608  ultralytics.nn.modules.block.SPPF            [256, 256, 5]                 \n",
      " 10                  -1  1         0  torch.nn.modules.upsampling.Upsample         [None, 2, 'nearest']          \n",
      " 11             [-1, 6]  1         0  ultralytics.nn.modules.conv.Concat           [1]                           \n",
      " 12                  -1  1    148224  ultralytics.nn.modules.block.C2f             [384, 128, 1]                 \n",
      " 13                  -1  1         0  torch.nn.modules.upsampling.Upsample         [None, 2, 'nearest']          \n",
      " 14             [-1, 4]  1         0  ultralytics.nn.modules.conv.Concat           [1]                           \n",
      "  9                  -1  1    164608  ultralytics.nn.modules.block.SPPF            [256, 256, 5]                 \n",
      " 10                  -1  1         0  torch.nn.modules.upsampling.Upsample         [None, 2, 'nearest']          \n",
      " 11             [-1, 6]  1         0  ultralytics.nn.modules.conv.Concat           [1]                           \n",
      " 12                  -1  1    148224  ultralytics.nn.modules.block.C2f             [384, 128, 1]                 \n",
      " 13                  -1  1         0  torch.nn.modules.upsampling.Upsample         [None, 2, 'nearest']          \n",
      " 14             [-1, 4]  1         0  ultralytics.nn.modules.conv.Concat           [1]                           \n",
      " 15                  -1  1     37248  ultralytics.nn.modules.block.C2f             [192, 64, 1]                  \n",
      " 16                  -1  1     36992  ultralytics.nn.modules.conv.Conv             [64, 64, 3, 2]                \n",
      " 17            [-1, 12]  1         0  ultralytics.nn.modules.conv.Concat           [1]                           \n",
      " 18                  -1  1    123648  ultralytics.nn.modules.block.C2f             [192, 128, 1]                 \n",
      " 19                  -1  1    147712  ultralytics.nn.modules.conv.Conv             [128, 128, 3, 2]              \n",
      " 15                  -1  1     37248  ultralytics.nn.modules.block.C2f             [192, 64, 1]                  \n",
      " 16                  -1  1     36992  ultralytics.nn.modules.conv.Conv             [64, 64, 3, 2]                \n",
      " 17            [-1, 12]  1         0  ultralytics.nn.modules.conv.Concat           [1]                           \n",
      " 18                  -1  1    123648  ultralytics.nn.modules.block.C2f             [192, 128, 1]                 \n",
      " 19                  -1  1    147712  ultralytics.nn.modules.conv.Conv             [128, 128, 3, 2]              \n",
      " 20             [-1, 9]  1         0  ultralytics.nn.modules.conv.Concat           [1]                           \n",
      " 21                  -1  1    493056  ultralytics.nn.modules.block.C2f             [384, 256, 1]                 \n",
      " 20             [-1, 9]  1         0  ultralytics.nn.modules.conv.Concat           [1]                           \n",
      " 21                  -1  1    493056  ultralytics.nn.modules.block.C2f             [384, 256, 1]                 \n",
      " 22        [15, 18, 21]  1    751702  ultralytics.nn.modules.head.Detect           [2, [64, 128, 256]]           \n",
      " 22        [15, 18, 21]  1    751702  ultralytics.nn.modules.head.Detect           [2, [64, 128, 256]]           \n",
      "Model summary: 129 layers, 3,011,238 parameters, 3,011,222 gradients, 8.2 GFLOPs\n",
      "\n",
      "Model summary: 129 layers, 3,011,238 parameters, 3,011,222 gradients, 8.2 GFLOPs\n",
      "\n",
      "Transferred 319/355 items from pretrained weights\n",
      "Freezing layer 'model.22.dfl.conv.weight'\n",
      "Transferred 319/355 items from pretrained weights\n",
      "Freezing layer 'model.22.dfl.conv.weight'\n",
      "\u001b[34m\u001b[1mtrain: \u001b[0mFast image access  (ping: 0.20.0 ms, read: 111.219.5 MB/s, size: 56.1 KB)\n",
      "\u001b[34m\u001b[1mtrain: \u001b[0mFast image access  (ping: 0.20.0 ms, read: 111.219.5 MB/s, size: 56.1 KB)\n",
      "\u001b[K\u001b[34m\u001b[1mtrain: \u001b[0mScanning C:\\Users\\HP\\Desktop\\New folder (3)\\vehicle-detection.v21i.yolov11\\train\\labels.cache... 1850 images, 0 backgrounds, 0 corrupt: 100% ━━━━━━━━━━━━ 1850/1850 925.2Kit/s 0.0s\n",
      "\u001b[K\u001b[34m\u001b[1mtrain: \u001b[0mScanning C:\\Users\\HP\\Desktop\\New folder (3)\\vehicle-detection.v21i.yolov11\\train\\labels.cache... 1850 images, 0 backgrounds, 0 corrupt: 100% ━━━━━━━━━━━━ 1850/1850 925.2Kit/s 0.0s\n",
      "\u001b[34m\u001b[1mval: \u001b[0mFast image access  (ping: 0.10.0 ms, read: 104.628.1 MB/s, size: 58.4 KB)\n",
      "\u001b[34m\u001b[1mval: \u001b[0mFast image access  (ping: 0.10.0 ms, read: 104.628.1 MB/s, size: 58.4 KB)\n",
      "\u001b[K\u001b[34m\u001b[1mval: \u001b[0mScanning C:\\Users\\HP\\Desktop\\New folder (3)\\vehicle-detection.v21i.yolov11\\valid\\labels.cache... 159 images, 0 backgrounds, 0 corrupt: 100% ━━━━━━━━━━━━ 159/159 159.0Kit/s 0.0s\n",
      "\u001b[K\u001b[34m\u001b[1mval: \u001b[0mScanning C:\\Users\\HP\\Desktop\\New folder (3)\\vehicle-detection.v21i.yolov11\\valid\\labels.cache... 159 images, 0 backgrounds, 0 corrupt: 100% ━━━━━━━━━━━━ 159/159 159.0Kit/s 0.0s\n",
      "Plotting labels to C:\\Users\\HP\\Desktop\\New folder (3)\\runs\\detect\\train5\\labels.jpg... \n",
      "Plotting labels to C:\\Users\\HP\\Desktop\\New folder (3)\\runs\\detect\\train5\\labels.jpg... \n",
      "\u001b[34m\u001b[1moptimizer:\u001b[0m 'optimizer=auto' found, ignoring 'lr0=0.01' and 'momentum=0.937' and determining best 'optimizer', 'lr0' and 'momentum' automatically... \n",
      "\u001b[34m\u001b[1moptimizer:\u001b[0m AdamW(lr=0.001667, momentum=0.9) with parameter groups 57 weight(decay=0.0), 64 weight(decay=0.0005), 63 bias(decay=0.0)\n",
      "\u001b[34m\u001b[1moptimizer:\u001b[0m 'optimizer=auto' found, ignoring 'lr0=0.01' and 'momentum=0.937' and determining best 'optimizer', 'lr0' and 'momentum' automatically... \n",
      "\u001b[34m\u001b[1moptimizer:\u001b[0m AdamW(lr=0.001667, momentum=0.9) with parameter groups 57 weight(decay=0.0), 64 weight(decay=0.0005), 63 bias(decay=0.0)\n",
      "Image sizes 416 train, 416 val\n",
      "Using 0 dataloader workers\n",
      "Logging results to \u001b[1mC:\\Users\\HP\\Desktop\\New folder (3)\\runs\\detect\\train5\u001b[0m\n",
      "Starting training for 3 epochs...\n",
      "Image sizes 416 train, 416 val\n",
      "Using 0 dataloader workers\n",
      "Logging results to \u001b[1mC:\\Users\\HP\\Desktop\\New folder (3)\\runs\\detect\\train5\u001b[0m\n",
      "Starting training for 3 epochs...\n",
      "\n",
      "      Epoch    GPU_mem   box_loss   cls_loss   dfl_loss  Instances       Size\n",
      "\n",
      "      Epoch    GPU_mem   box_loss   cls_loss   dfl_loss  Instances       Size\n",
      "\u001b[K        1/3         0G      1.337      1.462      1.174         10        416: 100% ━━━━━━━━━━━━ 232/232 1.0it/s 3:44<0.6s\n",
      "\u001b[K        1/3         0G      1.337      1.462      1.174         10        416: 100% ━━━━━━━━━━━━ 232/232 1.0it/s 3:44<0.6s\n",
      "\u001b[K                 Class     Images  Instances      Box(P          R      mAP50  mAP50-95): 100% ━━━━━━━━━━━━ 10/10 1.4it/s 7.0s.7ss\n",
      "\u001b[K                 Class     Images  Instances      Box(P          R      mAP50  mAP50-95): 100% ━━━━━━━━━━━━ 10/10 1.4it/s 7.0s\n",
      "                   all        159        705      0.907      0.931       0.97      0.711\n",
      "                   all        159        705      0.907      0.931       0.97      0.711\n",
      "\n",
      "      Epoch    GPU_mem   box_loss   cls_loss   dfl_loss  Instances       Size\n",
      "\n",
      "      Epoch    GPU_mem   box_loss   cls_loss   dfl_loss  Instances       Size\n",
      "\u001b[K        2/3         0G      1.191     0.8798      1.088         22        416: 100% ━━━━━━━━━━━━ 232/232 1.0it/s 3:50<0.6s\n",
      "\u001b[K        2/3         0G      1.191     0.8798      1.088         22        416: 100% ━━━━━━━━━━━━ 232/232 1.0it/s 3:50<0.6s\n",
      "\u001b[K                 Class     Images  Instances      Box(P          R      mAP50  mAP50-95): 100% ━━━━━━━━━━━━ 10/10 1.5it/s 6.7s.7ss\n",
      "\u001b[K                 Class     Images  Instances      Box(P          R      mAP50  mAP50-95): 100% ━━━━━━━━━━━━ 10/10 1.5it/s 6.7s\n",
      "                   all        159        705      0.969      0.971       0.99      0.724\n",
      "                   all        159        705      0.969      0.971       0.99      0.724\n",
      "\n",
      "      Epoch    GPU_mem   box_loss   cls_loss   dfl_loss  Instances       Size\n",
      "\n",
      "      Epoch    GPU_mem   box_loss   cls_loss   dfl_loss  Instances       Size\n",
      "\u001b[K        3/3         0G      1.117     0.7669      1.061         16        416: 100% ━━━━━━━━━━━━ 232/232 1.1it/s 3:33<0.6s\n",
      "\u001b[K        3/3         0G      1.117     0.7669      1.061         16        416: 100% ━━━━━━━━━━━━ 232/232 1.1it/s 3:33<0.6s\n",
      "\u001b[K                 Class     Images  Instances      Box(P          R      mAP50  mAP50-95): 100% ━━━━━━━━━━━━ 10/10 1.5it/s 6.7s.7ss\n",
      "\u001b[K                 Class     Images  Instances      Box(P          R      mAP50  mAP50-95): 100% ━━━━━━━━━━━━ 10/10 1.5it/s 6.7s\n",
      "                   all        159        705      0.975       0.99      0.993      0.753\n",
      "                   all        159        705      0.975       0.99      0.993      0.753\n",
      "\n",
      "3 epochs completed in 0.191 hours.\n",
      "\n",
      "3 epochs completed in 0.191 hours.\n",
      "Optimizer stripped from C:\\Users\\HP\\Desktop\\New folder (3)\\runs\\detect\\train5\\weights\\last.pt, 6.2MB\n",
      "Optimizer stripped from C:\\Users\\HP\\Desktop\\New folder (3)\\runs\\detect\\train5\\weights\\last.pt, 6.2MB\n",
      "Optimizer stripped from C:\\Users\\HP\\Desktop\\New folder (3)\\runs\\detect\\train5\\weights\\best.pt, 6.2MB\n",
      "\n",
      "Validating C:\\Users\\HP\\Desktop\\New folder (3)\\runs\\detect\\train5\\weights\\best.pt...\n",
      "Ultralytics 8.3.199  Python-3.11.9 torch-2.8.0+cpu CPU (12th Gen Intel Core i5-12500H)\n",
      "Optimizer stripped from C:\\Users\\HP\\Desktop\\New folder (3)\\runs\\detect\\train5\\weights\\best.pt, 6.2MB\n",
      "\n",
      "Validating C:\\Users\\HP\\Desktop\\New folder (3)\\runs\\detect\\train5\\weights\\best.pt...\n",
      "Ultralytics 8.3.199  Python-3.11.9 torch-2.8.0+cpu CPU (12th Gen Intel Core i5-12500H)\n",
      "Model summary (fused): 72 layers, 3,006,038 parameters, 0 gradients, 8.1 GFLOPs\n",
      "Model summary (fused): 72 layers, 3,006,038 parameters, 0 gradients, 8.1 GFLOPs\n",
      "\u001b[K                 Class     Images  Instances      Box(P          R      mAP50  mAP50-95): 100% ━━━━━━━━━━━━ 10/10 1.7it/s 6.0s.6ss\n",
      "\u001b[K                 Class     Images  Instances      Box(P          R      mAP50  mAP50-95): 100% ━━━━━━━━━━━━ 10/10 1.7it/s 6.0s\n",
      "                   all        159        705      0.975       0.99      0.993      0.753\n",
      "                 mobil        156        372      0.976      0.995      0.994      0.822\n",
      "                 motor        155        333      0.973      0.985      0.993      0.685\n",
      "Speed: 0.5ms preprocess, 29.0ms inference, 0.0ms loss, 2.4ms postprocess per image\n",
      "Results saved to \u001b[1mC:\\Users\\HP\\Desktop\\New folder (3)\\runs\\detect\\train5\u001b[0m\n",
      "                   all        159        705      0.975       0.99      0.993      0.753\n",
      "                 mobil        156        372      0.976      0.995      0.994      0.822\n",
      "                 motor        155        333      0.973      0.985      0.993      0.685\n",
      "Speed: 0.5ms preprocess, 29.0ms inference, 0.0ms loss, 2.4ms postprocess per image\n",
      "Results saved to \u001b[1mC:\\Users\\HP\\Desktop\\New folder (3)\\runs\\detect\\train5\u001b[0m\n"
     ]
    }
   ],
   "source": [
    "# Train the model with save_period=0 to prevent intermediate saves\n",
    "model.args.update({'save_period': -1})  # Disable model saving during training\n",
    "results = model.train()"
   ]
  },
  {
   "cell_type": "markdown",
   "id": "76d4585f",
   "metadata": {},
   "source": [
    "# 5. Vehicle Detection and Counting Functions\n",
    "\n",
    "Let's implement functions to process the model outputs and count vehicles by type"
   ]
  },
  {
   "cell_type": "code",
   "execution_count": 26,
   "id": "08e8bd6a",
   "metadata": {},
   "outputs": [],
   "source": [
    "def process_detections(results, conf_threshold=0.25):\n",
    "    \"\"\"\n",
    "    Process YOLO detection results and count vehicles by type\n",
    "    \"\"\"\n",
    "    counts = {\n",
    "        'mobil': 0,  # cars\n",
    "        'motor': 0,  # motorcycles\n",
    "        'total': 0\n",
    "    }\n",
    "    \n",
    "    # Process each detection\n",
    "    for r in results:\n",
    "        boxes = r.boxes\n",
    "        for box in boxes:\n",
    "            # Get confidence score\n",
    "            conf = float(box.conf)\n",
    "            if conf < conf_threshold:\n",
    "                continue\n",
    "                \n",
    "            # Get class id and increment counter\n",
    "            cls = int(box.cls)\n",
    "            class_name = data_config['names'][cls]\n",
    "            counts[class_name] += 1\n",
    "            counts['total'] += 1\n",
    "            \n",
    "    return counts\n",
    "\n",
    "def draw_detections(image, results, counts, conf_threshold=0.25):\n",
    "    \"\"\"\n",
    "    Draw bounding boxes and labels on the image\n",
    "    \"\"\"\n",
    "    # Make a copy of the image\n",
    "    img = image.copy()\n",
    "    \n",
    "    # Colors for different classes (BGR format)\n",
    "    colors = {\n",
    "        'mobil': (0, 255, 0),  # Green for cars\n",
    "        'motor': (255, 0, 0)   # Blue for motorcycles\n",
    "    }\n",
    "    \n",
    "    # Draw detections\n",
    "    for r in results:\n",
    "        boxes = r.boxes\n",
    "        for box in boxes:\n",
    "            # Get confidence score\n",
    "            conf = float(box.conf)\n",
    "            if conf < conf_threshold:\n",
    "                continue\n",
    "                \n",
    "            # Get box coordinates and class\n",
    "            x1, y1, x2, y2 = map(int, box.xyxy[0])\n",
    "            cls = int(box.cls)\n",
    "            class_name = data_config['names'][cls]\n",
    "            \n",
    "            # Draw bounding box\n",
    "            color = colors[class_name]\n",
    "            cv2.rectangle(img, (x1, y1), (x2, y2), color, 2)\n",
    "            \n",
    "            # Add label\n",
    "            label = f\"{class_name} {conf:.2f}\"\n",
    "            cv2.putText(img, label, (x1, y1-10), cv2.FONT_HERSHEY_SIMPLEX, 0.5, color, 2)\n",
    "    \n",
    "    # Add count summary\n",
    "    summary = f\"Total: {counts['total']} | Cars: {counts['mobil']} | Motorcycles: {counts['motor']}\"\n",
    "    cv2.putText(img, summary, (10, 30), cv2.FONT_HERSHEY_SIMPLEX, 1, (0, 0, 255), 2)\n",
    "    \n",
    "    return img"
   ]
  },
  {
   "cell_type": "markdown",
   "id": "949ca312",
   "metadata": {},
   "source": [
    "# 6. Model Inference and Visualization\n",
    "\n",
    "Let's test our model on some images from the test set"
   ]
  },
  {
   "cell_type": "code",
   "execution_count": 30,
   "id": "1e71fbb5",
   "metadata": {},
   "outputs": [],
   "source": [
    "def process_image(image_path, model, conf_threshold=0.25):\n",
    "    \"\"\"\n",
    "    Process a single image and return detection results with visualization\n",
    "    \"\"\"\n",
    "    # Read image\n",
    "    img = cv2.imread(str(image_path))\n",
    "    if img is None:\n",
    "        raise ValueError(f\"Could not read image: {image_path}\")\n",
    "    \n",
    "    # Run inference\n",
    "    results = model.predict(img, conf=conf_threshold)\n",
    "    \n",
    "    # Process detections\n",
    "    counts = process_detections(results, conf_threshold)\n",
    "    \n",
    "    # Draw results\n",
    "    output_img = draw_detections(img, results, counts, conf_threshold)\n",
    "    \n",
    "    return output_img, counts"
   ]
  },
  {
   "cell_type": "markdown",
   "id": "65264ec6",
   "metadata": {},
   "source": [
    "# 7. Testing on New Images\n",
    "\n",
    "Here's how you can use the model to detect and count vehicles in your own traffic images:"
   ]
  },
  {
   "cell_type": "code",
   "execution_count": 27,
   "id": "4d9142ff",
   "metadata": {},
   "outputs": [],
   "source": [
    "# Function to process a new image\n",
    "def detect_vehicles_in_image(image_path):\n",
    "    \"\"\"\n",
    "    Detect and count vehicles in a new image\n",
    "    \"\"\"\n",
    "    try:\n",
    "        output_img, counts = process_image(image_path, model)\n",
    "        \n",
    "        # Display results\n",
    "        plt.figure(figsize=(15, 10))\n",
    "        plt.imshow(cv2.cvtColor(output_img, cv2.COLOR_BGR2RGB))\n",
    "        plt.axis('off')\n",
    "        plt.title('Vehicle Detection Results')\n",
    "        plt.show()\n",
    "        \n",
    "        print(\"\\nDetection Results:\")\n",
    "        print(f\"Total vehicles: {counts['total']}\")\n",
    "        print(f\"Cars: {counts['mobil']}\")\n",
    "        print(f\"Motorcycles: {counts['motor']}\")\n",
    "        \n",
    "    except Exception as e:\n",
    "        print(f\"Error processing image: {str(e)}\")\n",
    "\n",
    "# Example usage:\n",
    "# detect_vehicles_in_image('path_to_your_image.jpg')"
   ]
  },
  {
   "cell_type": "code",
   "execution_count": 32,
   "id": "ef09dc1e",
   "metadata": {},
   "outputs": [
    {
     "name": "stdout",
     "output_type": "stream",
     "text": [
      "Processing image: Simpang-Jeroni-01-20-_png.rf.19af04901ff699afb888f34570d4eea2.jpg\n",
      "\n",
      "0: 416x416 2 mobils, 4 motors, 59.4ms\n",
      "Speed: 37.4ms preprocess, 59.4ms inference, 1.0ms postprocess per image at shape (1, 3, 416, 416)\n",
      "0: 416x416 2 mobils, 4 motors, 59.4ms\n",
      "Speed: 37.4ms preprocess, 59.4ms inference, 1.0ms postprocess per image at shape (1, 3, 416, 416)\n"
     ]
    },
    {
     "data": {
      "text/plain": [
       "<Figure size 1500x1000 with 1 Axes>"
      ]
     },
     "metadata": {},
     "output_type": "display_data"
    },
    {
     "name": "stdout",
     "output_type": "stream",
     "text": [
      "\n",
      "Detection Results:\n",
      "Total vehicles: 6\n",
      "Cars: 2\n",
      "Motorcycles: 4\n"
     ]
    }
   ],
   "source": [
    "# Let's test with a specific traffic image\n",
    "test_image = DATASET_PATH / \"test/images/Simpang-Jeroni-01-20-_png.rf.19af04901ff699afb888f34570d4eea2.jpg\"\n",
    "\n",
    "# Process the image\n",
    "print(f\"Processing image: {test_image.name}\")\n",
    "detect_vehicles_in_image(test_image)"
   ]
  }
 ],
 "metadata": {
  "kernelspec": {
   "display_name": "Python 3",
   "language": "python",
   "name": "python3"
  },
  "language_info": {
   "codemirror_mode": {
    "name": "ipython",
    "version": 3
   },
   "file_extension": ".py",
   "mimetype": "text/x-python",
   "name": "python",
   "nbconvert_exporter": "python",
   "pygments_lexer": "ipython3",
   "version": "3.11.9"
  }
 },
 "nbformat": 4,
 "nbformat_minor": 5
}
