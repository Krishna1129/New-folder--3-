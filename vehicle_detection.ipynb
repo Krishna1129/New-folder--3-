{
 "cells": [
  {
   "cell_type": "markdown",
   "id": "d506eff3",
   "metadata": {},
   "source": [
    "# Vehicle Detection and Counting using YOLOv8\n",
    "\n",
    "This notebook implements a vehicle detection and counting system using YOLOv8. The model will:\n",
    "1. Detect vehicles in traffic images\n",
    "2. Classify them as either cars ('mobil') or motorcycles ('motor')\n",
    "3. Count total vehicles and per-category counts\n",
    "4. Visualize the results with bounding boxes and counts"
   ]
  },
  {
   "cell_type": "markdown",
   "id": "7819d823",
   "metadata": {},
   "source": [
    "# 1. Setup and Dependencies\n",
    "\n",
    "First, let's install and import all required libraries"
   ]
  },
  {
   "cell_type": "code",
   "execution_count": null,
   "id": "119193ec",
   "metadata": {},
   "outputs": [],
   "source": [
    "import torch\n",
    "import cv2\n",
    "import numpy as np\n",
    "import matplotlib.pyplot as plt\n",
    "from ultralytics import YOLO\n",
    "from pathlib import Path\n",
    "\n",
    "# Check if CUDA is available\n",
    "print(f\"CUDA available: {torch.cuda.is_available()}\")\n",
    "if torch.cuda.is_available():\n",
    "    device = torch.device(\"cuda\")\n",
    "    print(f\"Using GPU: {torch.cuda.get_device_name(0)}\")\n",
    "else:\n",
    "    device = torch.device(\"cpu\")\n",
    "    print(\"Using CPU\")"
   ]
  },
  {
   "cell_type": "markdown",
   "id": "74b55679",
   "metadata": {},
   "source": [
    "# 2. Load and Preprocess Dataset\n",
    "\n",
    "Let's load our dataset configuration and examine its structure"
   ]
  },
  {
   "cell_type": "code",
   "execution_count": null,
   "id": "ed1b1793",
   "metadata": {},
   "outputs": [],
   "source": [
    "# Set paths\n",
    "DATASET_PATH = Path(\"vehicle-detection.v21i.yolov11\")\n",
    "DATA_YAML = DATASET_PATH / \"data.yaml\"\n",
    "\n",
    "# Load and display dataset configuration\n",
    "import yaml\n",
    "with open(DATA_YAML, 'r') as f:\n",
    "    data_config = yaml.safe_load(f)\n",
    "    \n",
    "print(\"Dataset Configuration:\")\n",
    "print(f\"Number of classes: {data_config['nc']}\")\n",
    "print(f\"Class names: {data_config['names']}\")\n",
    "print(\"\\nData splits:\")\n",
    "print(f\"Training: {data_config['train']}\")\n",
    "print(f\"Validation: {data_config['val']}\")\n",
    "print(f\"Testing: {data_config['test']}\")"
   ]
  },
  {
   "cell_type": "markdown",
   "id": "28d73192",
   "metadata": {},
   "source": [
    "# 3. Configure YOLO Model\n",
    "\n",
    "Now we'll set up the YOLOv8 model with appropriate configuration for our vehicle detection task"
   ]
  },
  {
   "cell_type": "code",
   "execution_count": null,
   "id": "f1e35894",
   "metadata": {},
   "outputs": [],
   "source": [
    "# Initialize YOLO model\n",
    "model = YOLO('yolov8n.pt')  # Load the smallest YOLOv8 model for faster training\n",
    "\n",
    "# Configure model parameters\n",
    "model.args.update({\n",
    "    'data': str(DATA_YAML),  # dataset config file\n",
    "    'epochs': 50,  # number of epochs\n",
    "    'imgsz': 640,  # image size\n",
    "    'batch': 16,  # batch size\n",
    "    'device': device,  # device to use (cuda/cpu)\n",
    "    'workers': 4,  # number of worker threads\n",
    "    'patience': 10,  # early stopping patience\n",
    "})"
   ]
  },
  {
   "cell_type": "markdown",
   "id": "3a709410",
   "metadata": {},
   "source": [
    "# 4. Train YOLO Model\n",
    "\n",
    "Let's train our model on the vehicle dataset"
   ]
  },
  {
   "cell_type": "code",
   "execution_count": null,
   "id": "118cd707",
   "metadata": {},
   "outputs": [],
   "source": [
    "# Train the model\n",
    "results = model.train()\n",
    "\n",
    "# Display training results\n",
    "print(\"\\nTraining Results:\")\n",
    "print(f\"Best mAP50: {results.maps[50]:.3f}\")\n",
    "print(f\"Best mAP50-95: {results.maps[0]:.3f}\")\n",
    "\n",
    "# Save the trained model\n",
    "model.export(format='onnx')"
   ]
  },
  {
   "cell_type": "markdown",
   "id": "76d4585f",
   "metadata": {},
   "source": [
    "# 5. Vehicle Detection and Counting Functions\n",
    "\n",
    "Let's implement functions to process the model outputs and count vehicles by type"
   ]
  },
  {
   "cell_type": "code",
   "execution_count": null,
   "id": "08e8bd6a",
   "metadata": {},
   "outputs": [],
   "source": [
    "def process_detections(results, conf_threshold=0.25):\n",
    "    \"\"\"\n",
    "    Process YOLO detection results and count vehicles by type\n",
    "    \"\"\"\n",
    "    counts = {\n",
    "        'mobil': 0,  # cars\n",
    "        'motor': 0,  # motorcycles\n",
    "        'total': 0\n",
    "    }\n",
    "    \n",
    "    # Process each detection\n",
    "    for r in results:\n",
    "        boxes = r.boxes\n",
    "        for box in boxes:\n",
    "            # Get confidence score\n",
    "            conf = float(box.conf)\n",
    "            if conf < conf_threshold:\n",
    "                continue\n",
    "                \n",
    "            # Get class id and increment counter\n",
    "            cls = int(box.cls)\n",
    "            class_name = data_config['names'][cls]\n",
    "            counts[class_name] += 1\n",
    "            counts['total'] += 1\n",
    "            \n",
    "    return counts\n",
    "\n",
    "def draw_detections(image, results, counts, conf_threshold=0.25):\n",
    "    \"\"\"\n",
    "    Draw bounding boxes and labels on the image\n",
    "    \"\"\"\n",
    "    # Make a copy of the image\n",
    "    img = image.copy()\n",
    "    \n",
    "    # Colors for different classes (BGR format)\n",
    "    colors = {\n",
    "        'mobil': (0, 255, 0),  # Green for cars\n",
    "        'motor': (255, 0, 0)   # Blue for motorcycles\n",
    "    }\n",
    "    \n",
    "    # Draw detections\n",
    "    for r in results:\n",
    "        boxes = r.boxes\n",
    "        for box in boxes:\n",
    "            # Get confidence score\n",
    "            conf = float(box.conf)\n",
    "            if conf < conf_threshold:\n",
    "                continue\n",
    "                \n",
    "            # Get box coordinates and class\n",
    "            x1, y1, x2, y2 = map(int, box.xyxy[0])\n",
    "            cls = int(box.cls)\n",
    "            class_name = data_config['names'][cls]\n",
    "            \n",
    "            # Draw bounding box\n",
    "            color = colors[class_name]\n",
    "            cv2.rectangle(img, (x1, y1), (x2, y2), color, 2)\n",
    "            \n",
    "            # Add label\n",
    "            label = f\"{class_name} {conf:.2f}\"\n",
    "            cv2.putText(img, label, (x1, y1-10), cv2.FONT_HERSHEY_SIMPLEX, 0.5, color, 2)\n",
    "    \n",
    "    # Add count summary\n",
    "    summary = f\"Total: {counts['total']} | Cars: {counts['mobil']} | Motorcycles: {counts['motor']}\"\n",
    "    cv2.putText(img, summary, (10, 30), cv2.FONT_HERSHEY_SIMPLEX, 1, (0, 0, 255), 2)\n",
    "    \n",
    "    return img"
   ]
  },
  {
   "cell_type": "markdown",
   "id": "949ca312",
   "metadata": {},
   "source": [
    "# 6. Model Inference and Visualization\n",
    "\n",
    "Let's test our model on some images from the test set"
   ]
  },
  {
   "cell_type": "code",
   "execution_count": null,
   "id": "1e71fbb5",
   "metadata": {},
   "outputs": [],
   "source": [
    "def process_image(image_path, model, conf_threshold=0.25):\n",
    "    \"\"\"\n",
    "    Process a single image and return detection results with visualization\n",
    "    \"\"\"\n",
    "    # Read image\n",
    "    img = cv2.imread(str(image_path))\n",
    "    if img is None:\n",
    "        raise ValueError(f\"Could not read image: {image_path}\")\n",
    "    \n",
    "    # Run inference\n",
    "    results = model.predict(img, conf=conf_threshold)\n",
    "    \n",
    "    # Process detections\n",
    "    counts = process_detections(results, conf_threshold)\n",
    "    \n",
    "    # Draw results\n",
    "    output_img = draw_detections(img, results, counts, conf_threshold)\n",
    "    \n",
    "    return output_img, counts\n",
    "\n",
    "# Test on a sample image\n",
    "test_image_path = list(Path(data_config['test']).glob('*.jpg'))[0]\n",
    "output_img, counts = process_image(test_image_path, model)\n",
    "\n",
    "# Display results\n",
    "plt.figure(figsize=(15, 10))\n",
    "plt.imshow(cv2.cvtColor(output_img, cv2.COLOR_BGR2RGB))\n",
    "plt.axis('off')\n",
    "plt.title('Vehicle Detection Results')\n",
    "plt.show()\n",
    "\n",
    "print(\"\\nDetection Results:\")\n",
    "print(f\"Total vehicles: {counts['total']}\")\n",
    "print(f\"Cars: {counts['mobil']}\")\n",
    "print(f\"Motorcycles: {counts['motor']}\")"
   ]
  },
  {
   "cell_type": "markdown",
   "id": "65264ec6",
   "metadata": {},
   "source": [
    "# 7. Testing on New Images\n",
    "\n",
    "Here's how you can use the model to detect and count vehicles in your own traffic images:"
   ]
  },
  {
   "cell_type": "code",
   "execution_count": null,
   "id": "4d9142ff",
   "metadata": {},
   "outputs": [],
   "source": [
    "# Function to process a new image\n",
    "def detect_vehicles_in_image(image_path):\n",
    "    \"\"\"\n",
    "    Detect and count vehicles in a new image\n",
    "    \"\"\"\n",
    "    try:\n",
    "        output_img, counts = process_image(image_path, model)\n",
    "        \n",
    "        # Display results\n",
    "        plt.figure(figsize=(15, 10))\n",
    "        plt.imshow(cv2.cvtColor(output_img, cv2.COLOR_BGR2RGB))\n",
    "        plt.axis('off')\n",
    "        plt.title('Vehicle Detection Results')\n",
    "        plt.show()\n",
    "        \n",
    "        print(\"\\nDetection Results:\")\n",
    "        print(f\"Total vehicles: {counts['total']}\")\n",
    "        print(f\"Cars: {counts['mobil']}\")\n",
    "        print(f\"Motorcycles: {counts['motor']}\")\n",
    "        \n",
    "    except Exception as e:\n",
    "        print(f\"Error processing image: {str(e)}\")\n",
    "\n",
    "# Example usage:\n",
    "# detect_vehicles_in_image('path_to_your_image.jpg')"
   ]
  }
 ],
 "metadata": {
  "kernelspec": {
   "display_name": "Python 3",
   "language": "python",
   "name": "python3"
  },
  "language_info": {
   "name": "python",
   "version": "3.11.9"
  }
 },
 "nbformat": 4,
 "nbformat_minor": 5
}
